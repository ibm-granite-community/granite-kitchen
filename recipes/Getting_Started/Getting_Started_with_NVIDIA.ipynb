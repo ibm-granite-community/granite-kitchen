{
 "cells": [
  {
   "cell_type": "markdown",
   "id": "2bfc1e95-141c-43b4-955f-bda664427adf",
   "metadata": {},
   "source": [
    "# Getting Started with NVIDIA\n",
    "\n",
    "This notebook demonstrates using inference calls against a model hosted remotely on [NVIDIA](https://build.nvidia.com/explore/discover)."
   ]
  },
  {
   "cell_type": "code",
   "execution_count": null,
   "id": "a3a6d14f-f182-48e6-b0a2-600ecae4a87a",
   "metadata": {
    "scrolled": true
   },
   "outputs": [],
   "source": [
    "!pip install git+https://github.com/ibm-granite-community/utils langchain langchain_nvidia_ai_endpoints"
   ]
  },
  {
   "cell_type": "markdown",
   "id": "8d8fd42d-e018-461d-b74a-8beefff105fb",
   "metadata": {},
   "source": [
    "## Accessing NVIDIA services"
   ]
  },
  {
   "cell_type": "markdown",
   "id": "377131e9-3678-4971-a529-1cc281c21b92",
   "metadata": {},
   "source": [
    "### Establish NVIDIA Account\n",
    "\n",
    "Sign up for an account at [NVIDIA](https://build.nvidia.com/explore/discover)\n"
   ]
  },
  {
   "cell_type": "markdown",
   "id": "c6e5869b-bf4a-4d5a-bb7d-807db0381c09",
   "metadata": {},
   "source": [
    "During the signup process, generate a `NVIDIA_API_KEY`.\n",
    "\n",
    "There are three ways to provide this value to the cells below.  In order of precedence:\n",
    "\n",
    "1. As an environment variable\n",
    "2. As a Google colab secret\n",
    "3. Supplied by the user using `getpass()`"
   ]
  },
  {
   "cell_type": "code",
   "execution_count": null,
   "id": "3c28e7db-2522-49f6-b6d6-99503d256497",
   "metadata": {},
   "outputs": [],
   "source": [
    "from ibm_granite_community.notebook_utils import get_env_var\n",
    "\n",
    "NVIDIA_API_KEY = get_env_var('NVIDIA_API_KEY')"
   ]
  },
  {
   "cell_type": "markdown",
   "id": "515bc037-fff6-41bd-b752-64a27d75f0a7",
   "metadata": {},
   "source": [
    "## Querying the model with LangChain"
   ]
  },
  {
   "cell_type": "markdown",
   "id": "761ecac3-0b73-4b9c-aa3f-278cf5b02520",
   "metadata": {},
   "source": [
    "### Choose a model\n",
    "\n",
    "Models available on NVIDIA:\n",
    "\n",
    "- [`ibm-granite/granite-3.0-8b-instruct`](https://build.nvidia.com/ibm/granite-3_0-8b-instruct)\n",
    "- [`ibm-granite/granite-guardian-3.0-8B`](https://build.nvidia.com/ibm/granite-guardian-3_0-8b)\n",
    "- [`ibm-granite/granite-3.0-3b-a800m-instruct`](https://build.nvidia.com/ibm/granite-3_0-3b-a800m-instruct)"
   ]
  },
  {
   "cell_type": "markdown",
   "id": "8c2daa8c-4cce-4d3d-b33e-3b98569b7209",
   "metadata": {},
   "source": [
    "### Instantiate the Model Client"
   ]
  },
  {
   "cell_type": "code",
   "execution_count": null,
   "id": "59b01e3b-6353-4bff-b9da-b81b99aee203",
   "metadata": {},
   "outputs": [],
   "source": [
    "from langchain_nvidia_ai_endpoints import ChatNVIDIA\n",
    "\n",
    "client = ChatNVIDIA(\n",
    "  model=\"ibm/granite-3.0-8b-instruct\",\n",
    "  api_key=NVIDIA_API_KEY, \n",
    "  temperature=0.2,\n",
    "  top_p=0.7,\n",
    "  max_tokens=1024,\n",
    ")\n"
   ]
  },
  {
   "cell_type": "markdown",
   "id": "22b1258a-21f3-4e6d-8a63-a2b42656883e",
   "metadata": {},
   "source": [
    "### Perform Inference"
   ]
  },
  {
   "cell_type": "code",
   "execution_count": null,
   "id": "4e17df62-fbe5-4ec1-a056-11c88ebb1c5c",
   "metadata": {},
   "outputs": [],
   "source": [
    "prompt = \"Write a ballad about IBM\"\n",
    "\n",
    "for chunk in client.stream([{\"role\":\"user\", \"content\": prompt}]): \n",
    "  print(chunk.content, end=\"\")\n"
   ]
  }
 ],
 "metadata": {
  "kernelspec": {
   "display_name": ".venv",
   "language": "python",
   "name": "python3"
  },
  "language_info": {
   "codemirror_mode": {
    "name": "ipython",
    "version": 3
   },
   "file_extension": ".py",
   "mimetype": "text/x-python",
   "name": "python",
   "nbconvert_exporter": "python",
   "pygments_lexer": "ipython3",
   "version": "3.10.15"
  }
 },
 "nbformat": 4,
 "nbformat_minor": 5
}
