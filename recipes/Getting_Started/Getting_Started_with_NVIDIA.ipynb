{
 "cells": [
  {
   "cell_type": "markdown",
   "id": "0",
   "metadata": {},
   "source": [
    "# Getting Started with NVIDIA\n",
    "\n",
    "This notebook demonstrates using inference calls against a model hosted remotely on [NVIDIA](https://build.nvidia.com/explore/discover)."
   ]
  },
  {
   "cell_type": "code",
   "execution_count": null,
   "id": "1",
   "metadata": {
    "scrolled": true
   },
   "outputs": [],
   "source": [
    "!pip install git+https://github.com/ibm-granite-community/utils langchain langchain_nvidia_ai_endpoints"
   ]
  },
  {
   "cell_type": "markdown",
   "id": "2",
   "metadata": {},
   "source": [
    "## Accessing NVIDIA services"
   ]
  },
  {
   "cell_type": "markdown",
   "id": "3",
   "metadata": {},
   "source": [
    "### Establish NVIDIA Account\n",
    "\n",
    "Sign up for an account at [NVIDIA](https://build.nvidia.com/explore/discover)\n"
   ]
  },
  {
   "cell_type": "markdown",
   "id": "4",
   "metadata": {},
   "source": [
    "During the signup process, generate a `NVIDIA_API_KEY`.\n",
    "\n",
    "There are three ways to provide this value to the cells below.  In order of precedence:\n",
    "\n",
    "1. As an environment variable\n",
    "2. As a Google colab secret\n",
    "3. Supplied by the user using `getpass()`"
   ]
  },
  {
   "cell_type": "code",
   "execution_count": null,
   "id": "5",
   "metadata": {},
   "outputs": [],
   "source": [
    "from ibm_granite_community.notebook_utils import get_env_var\n",
    "\n",
    "NVIDIA_API_KEY = get_env_var('NVIDIA_API_KEY')"
   ]
  },
  {
   "cell_type": "markdown",
   "id": "6",
   "metadata": {},
   "source": [
    "## Querying the model with LangChain"
   ]
  },
  {
   "cell_type": "markdown",
   "id": "7",
   "metadata": {},
   "source": [
    "### Choose a model\n",
    "\n",
    "Models available on NVIDIA:\n",
    "\n",
    "- [`ibm/granite-3.3-8b-instruct`](https://build.nvidia.com/ibm/granite-3_3-8b-instruct)\n",
    "- [`ibm/granite-guardian-3.0-8b`](https://build.nvidia.com/ibm/granite-guardian-3_0-8b)"
   ]
  },
  {
   "cell_type": "markdown",
   "id": "8",
   "metadata": {},
   "source": [
    "### Instantiate the Model Client"
   ]
  },
  {
   "cell_type": "code",
   "execution_count": null,
   "id": "9",
   "metadata": {},
   "outputs": [],
   "source": [
    "from langchain_nvidia_ai_endpoints import ChatNVIDIA\n",
    "\n",
    "client = ChatNVIDIA(\n",
    "  model=\"ibm/granite-3.3-8b-instruct\",\n",
    "  api_key=NVIDIA_API_KEY,\n",
    "  temperature=0.2,\n",
    "  top_p=0.7,\n",
    "  max_tokens=1024,\n",
    ")\n"
   ]
  },
  {
   "cell_type": "markdown",
   "id": "10",
   "metadata": {},
   "source": [
    "### Perform Inference"
   ]
  },
  {
   "cell_type": "code",
   "execution_count": null,
   "id": "11",
   "metadata": {},
   "outputs": [],
   "source": [
    "prompt = \"Write a ballad about IBM\"\n",
    "\n",
    "for chunk in client.stream([{\"role\":\"user\", \"content\": prompt}]):\n",
    "  print(chunk.content, end=\"\")\n"
   ]
  }
 ],
 "metadata": {
  "language_info": {
   "codemirror_mode": {
    "name": "ipython",
    "version": 3
   },
   "file_extension": ".py",
   "mimetype": "text/x-python",
   "name": "python",
   "nbconvert_exporter": "python",
   "pygments_lexer": "ipython3"
  }
 },
 "nbformat": 4,
 "nbformat_minor": 5
}
