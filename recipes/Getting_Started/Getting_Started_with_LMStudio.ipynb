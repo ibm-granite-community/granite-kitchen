{
 "cells": [
  {
   "cell_type": "markdown",
   "id": "32067745",
   "metadata": {},
   "source": [
    "# Getting Started with LM Studio"
   ]
  },
  {
   "cell_type": "markdown",
   "id": "d2dae42d",
   "metadata": {},
   "source": [
    "This notebook demonstrates how to run inference with models hosted locally using [LM Studio](https://lmstudio.ai/)."
   ]
  },
  {
   "cell_type": "markdown",
   "id": "778cbef6",
   "metadata": {},
   "source": [
    "## Install Dependencies"
   ]
  },
  {
   "cell_type": "code",
   "execution_count": null,
   "id": "6671d1e7",
   "metadata": {},
   "outputs": [],
   "source": [
    "! pip install lmstudio"
   ]
  },
  {
   "cell_type": "markdown",
   "id": "76c50d78",
   "metadata": {},
   "source": [
    "## Setting Up LM Studio"
   ]
  },
  {
   "cell_type": "markdown",
   "id": "3e22ca5b",
   "metadata": {},
   "source": [
    "### Step 1: Download and Install LM Studio"
   ]
  },
  {
   "cell_type": "markdown",
   "id": "bc679c47",
   "metadata": {},
   "source": [
    "1. Visit [lmstudio.ai](https://lmstudio.ai/) and download the desktop application for your operating system\n",
    "2. Install and launch the LM Studio desktop app"
   ]
  },
  {
   "cell_type": "markdown",
   "id": "79220428",
   "metadata": {},
   "source": [
    "### Step 2: Start the Local Server\n",
    "\n",
    "1. Open LM Studio desktop app\n",
    "2. Navigate to the **Developer** tab and start your local server. \n",
    "3. The server will start on `http://localhost:1234` by default"
   ]
  },
  {
   "cell_type": "markdown",
   "id": "dadc4fb1",
   "metadata": {},
   "source": [
    "## Loading Models\n",
    "\n",
    "You can load models using either the desktop app or command line interface."
   ]
  },
  {
   "cell_type": "markdown",
   "id": "fd8cdf4e",
   "metadata": {},
   "source": [
    "### Method A: Using Desktop App\n",
    "\n",
    "1. In LM Studio, go to the **Discover** tab\n",
    "2. Browse or search for your desired model\n",
    "3. Click **Download** to pull the model locally\n",
    "4. Navigate to the **My Models** tab to see your locally downloaded models"
   ]
  },
  {
   "cell_type": "markdown",
   "id": "fa6358f2",
   "metadata": {},
   "source": [
    "### Method B: Using Command Line\n",
    "\n",
    "If you have LM Studio CLI (`lms`) installed, you can also download models via terminal:"
   ]
  },
  {
   "cell_type": "code",
   "execution_count": null,
   "id": "85e50916",
   "metadata": {},
   "outputs": [],
   "source": [
    "# Download IBM Granite models via CLI\n",
    "! lms get ibm-granite/granite-3.3-8b-instruct"
   ]
  },
  {
   "cell_type": "markdown",
   "id": "01f3b292",
   "metadata": {},
   "source": [
    "> **Note**: You can only install \"blessed\" models through the CLI. If you would like to download a model that is not in the [LM Studio Model Catelog](https://lmstudio.ai/models), you must use the desktop app."
   ]
  },
  {
   "cell_type": "markdown",
   "id": "571a92a7",
   "metadata": {},
   "source": [
    "## Running Inference with Python\n",
    "\n",
    "### Import the LM Studio SDK"
   ]
  },
  {
   "cell_type": "code",
   "execution_count": null,
   "id": "6c8d52dd",
   "metadata": {},
   "outputs": [],
   "source": [
    "import lmstudio as lms"
   ]
  },
  {
   "cell_type": "markdown",
   "id": "14616f9c",
   "metadata": {},
   "source": [
    "### Connect and Get Model"
   ]
  },
  {
   "cell_type": "code",
   "execution_count": null,
   "id": "e1648b99",
   "metadata": {},
   "outputs": [],
   "source": [
    "# load your desired model\n",
    "model = lms.llm(\"granite-3.3-8b-instruct\")"
   ]
  },
  {
   "cell_type": "markdown",
   "id": "4314cf77",
   "metadata": {},
   "source": [
    "### Perform Inference"
   ]
  },
  {
   "cell_type": "code",
   "execution_count": null,
   "id": "e8d7a765",
   "metadata": {},
   "outputs": [],
   "source": [
    "# Simple text completion\n",
    "prompt = \"Explain what makes granite a good choice for enterprise AI applications:\"\n",
    "\n",
    "# Use the correct config parameter for completion\n",
    "result = model.complete(prompt, config={\"maxTokens\": 1000, \"temperature\": 0.7})\n",
    "print(result)"
   ]
  },
  {
   "cell_type": "markdown",
   "id": "feed5ee1",
   "metadata": {},
   "source": [
    "## Next Steps\n",
    "\n",
    "You're now ready to run local inference with LM Studio! Experiment with different models, prompts, and parameters to get the best results for your use case.\n",
    "\n"
   ]
  }
 ],
 "metadata": {
  "kernelspec": {
   "display_name": ".venv",
   "language": "python",
   "name": "python3"
  },
  "language_info": {
   "codemirror_mode": {
    "name": "ipython",
    "version": 3
   },
   "file_extension": ".py",
   "mimetype": "text/x-python",
   "name": "python",
   "nbconvert_exporter": "python",
   "pygments_lexer": "ipython3",
   "version": "3.13.4"
  }
 },
 "nbformat": 4,
 "nbformat_minor": 5
}
