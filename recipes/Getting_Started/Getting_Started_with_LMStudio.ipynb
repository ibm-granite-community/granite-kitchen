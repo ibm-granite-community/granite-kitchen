{
 "cells": [
  {
   "cell_type": "markdown",
   "id": "0",
   "metadata": {},
   "source": [
    "# Getting Started with LM Studio"
   ]
  },
  {
   "cell_type": "markdown",
   "id": "1",
   "metadata": {},
   "source": [
    "This notebook demonstrates how to run inference with models hosted locally using [LM Studio](https://lmstudio.ai/)."
   ]
  },
  {
   "cell_type": "markdown",
   "id": "2",
   "metadata": {},
   "source": [
    "## Install Dependencies"
   ]
  },
  {
   "cell_type": "code",
   "execution_count": null,
   "id": "3",
   "metadata": {},
   "outputs": [],
   "source": [
    "%pip install lmstudio"
   ]
  },
  {
   "cell_type": "markdown",
   "id": "4",
   "metadata": {},
   "source": [
    "## Setting Up LM Studio"
   ]
  },
  {
   "cell_type": "markdown",
   "id": "5",
   "metadata": {},
   "source": [
    "### Step 1: Download and Install LM Studio"
   ]
  },
  {
   "cell_type": "markdown",
   "id": "6",
   "metadata": {},
   "source": [
    "1. Visit [lmstudio.ai](https://lmstudio.ai/) and download the desktop application for your operating system\n",
    "2. Install and launch the LM Studio desktop app"
   ]
  },
  {
   "cell_type": "markdown",
   "id": "7",
   "metadata": {},
   "source": [
    "### Step 2: Start the Local Server\n",
    "\n",
    "1. Open LM Studio desktop app\n",
    "2. Navigate to the **Developer** tab and start your local server. \n",
    "3. The server will start on `http://localhost:1234` by default"
   ]
  },
  {
   "cell_type": "markdown",
   "id": "8",
   "metadata": {},
   "source": [
    "## Loading Models\n",
    "\n",
    "You can load models using either the desktop app or command line interface."
   ]
  },
  {
   "cell_type": "markdown",
   "id": "9",
   "metadata": {},
   "source": [
    "### Method A: Using Desktop App\n",
    "\n",
    "1. In LM Studio, go to the **Discover** tab\n",
    "2. Browse or search for your desired model\n",
    "3. Click **Download** to pull the model locally\n",
    "4. Navigate to the **My Models** tab to see your locally downloaded models"
   ]
  },
  {
   "cell_type": "markdown",
   "id": "10",
   "metadata": {},
   "source": [
    "### Method B: Using Command Line\n",
    "\n",
    "If you have LM Studio CLI (`lms`) installed, you can also download models via terminal:"
   ]
  },
  {
   "cell_type": "code",
   "execution_count": null,
   "id": "11",
   "metadata": {},
   "outputs": [],
   "source": [
    "# Download IBM Granite models via CLI\n",
    "! lms get ibm-granite/granite-3.3-8b-instruct"
   ]
  },
  {
   "cell_type": "markdown",
   "id": "12",
   "metadata": {},
   "source": [
    "> **Note**: You can only install \"blessed\" models through the CLI. If you would like to download a model that is not in the [LM Studio Model Catelog](https://lmstudio.ai/models), you must use the desktop app."
   ]
  },
  {
   "cell_type": "markdown",
   "id": "13",
   "metadata": {},
   "source": [
    "## Running Inference with Python\n",
    "\n",
    "### Import the LM Studio SDK"
   ]
  },
  {
   "cell_type": "code",
   "execution_count": null,
   "id": "14",
   "metadata": {},
   "outputs": [],
   "source": [
    "import lmstudio as lms"
   ]
  },
  {
   "cell_type": "markdown",
   "id": "15",
   "metadata": {},
   "source": [
    "### Connect and Get Model"
   ]
  },
  {
   "cell_type": "code",
   "execution_count": null,
   "id": "16",
   "metadata": {},
   "outputs": [],
   "source": [
    "# load your desired model\n",
    "model = lms.llm(\"granite-3.3-8b-instruct\")"
   ]
  },
  {
   "cell_type": "markdown",
   "id": "17",
   "metadata": {},
   "source": [
    "### Perform Inference"
   ]
  },
  {
   "cell_type": "code",
   "execution_count": null,
   "id": "18",
   "metadata": {},
   "outputs": [],
   "source": [
    "# Simple text completion\n",
    "prompt = \"Explain what makes granite a good choice for enterprise AI applications:\"\n",
    "\n",
    "# Use the correct config parameter for completion\n",
    "result = model.complete(prompt, config={\"maxTokens\": 1000, \"temperature\": 0.7})\n",
    "print(result)"
   ]
  },
  {
   "cell_type": "markdown",
   "id": "19",
   "metadata": {},
   "source": [
    "## Next Steps\n",
    "\n",
    "You're now ready to run local inference with LM Studio! Experiment with different models, prompts, and parameters to get the best results for your use case.\n",
    "\n"
   ]
  }
 ],
 "metadata": {
  "language_info": {
   "codemirror_mode": {
    "name": "ipython",
    "version": 3
   },
   "file_extension": ".py",
   "mimetype": "text/x-python",
   "name": "python",
   "nbconvert_exporter": "python",
   "pygments_lexer": "ipython3"
  }
 },
 "nbformat": 4,
 "nbformat_minor": 5
}
